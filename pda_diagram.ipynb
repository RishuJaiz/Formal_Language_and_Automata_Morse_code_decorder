{
 "cells": [
  {
   "cell_type": "code",
   "execution_count": 1,
   "metadata": {},
   "outputs": [
    {
     "name": "stdout",
     "output_type": "stream",
     "text": [
      "0.20.3\n"
     ]
    }
   ],
   "source": [
    "import graphviz\n",
    "print(graphviz.__version__)\n"
   ]
  },
  {
   "cell_type": "code",
   "execution_count": 2,
   "metadata": {},
   "outputs": [],
   "source": [
    "from graphviz import Digraph\n",
    "\n",
    "def create_pda_diagram():\n",
    "    dot = Digraph(comment='Morse Code Decoder PDA')\n",
    "\n",
    "    # Graph properties\n",
    "    dot.attr(rankdir='LR', size='10,5')  # Layout from left to right; adjust size as needed\n",
    "\n",
    "    # Node and font styles for clarity and aesthetics\n",
    "    dot.attr('node', style='filled', color='lightgrey', fontname='Helvetica', fontsize='12')\n",
    "    dot.attr('edge', fontname='Helvetica', fontsize='10')\n",
    "\n",
    "    # Nodes with specific shapes, doublecircle for the accepting state\n",
    "    dot.node('q0', 'Start: Await Input', shape='circle')\n",
    "    dot.node('q1', 'Accumulate: Read \".\" or \"-\"', shape='circle')\n",
    "    dot.node('q2', 'Decode: Output Letter', shape='doublecircle')  # Accepting state\n",
    "\n",
    "    # Transitions with detailed labels for clarity\n",
    "    dot.edge('q0', 'q1', label='On \".\" or \"-\" / Push to stack')\n",
    "    dot.edge('q1', 'q1', label='On \".\" or \"-\" / Push to stack')\n",
    "    dot.edge('q1', 'q2', label='On \" \" / Pop & Decode')\n",
    "    dot.edge('q1', 'q2', label='On \"/\" / Pop, Decode, Output space')\n",
    "    dot.edge('q2', 'q1', label='On next symbol (reset for new input)')\n",
    "\n",
    "    # Render the graph to a PNG file, set view=True to open it automatically\n",
    "    dot.render('morse_code_decoder_pda_diagram', format='png', view=True)\n",
    "\n",
    "# Execute the function to create and view the diagram\n",
    "create_pda_diagram()\n"
   ]
  }
 ],
 "metadata": {
  "kernelspec": {
   "display_name": "myenv",
   "language": "python",
   "name": "python3"
  },
  "language_info": {
   "codemirror_mode": {
    "name": "ipython",
    "version": 3
   },
   "file_extension": ".py",
   "mimetype": "text/x-python",
   "name": "python",
   "nbconvert_exporter": "python",
   "pygments_lexer": "ipython3",
   "version": "3.11.9"
  }
 },
 "nbformat": 4,
 "nbformat_minor": 2
}
